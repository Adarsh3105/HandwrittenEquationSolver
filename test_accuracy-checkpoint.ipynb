{
 "cells": [
  {
   "cell_type": "code",
   "execution_count": 2,
   "metadata": {},
   "outputs": [
    {
     "name": "stderr",
     "output_type": "stream",
     "text": [
      "Using TensorFlow backend.\n"
     ]
    }
   ],
   "source": [
    "import cv2\n",
    "import numpy\n",
    "from keras.datasets import mnist\n",
    "from keras.models import Sequential\n",
    "from keras.layers import Dense\n",
    "from keras.layers import Dropout\n",
    "from keras.layers import Flatten\n",
    "from keras.layers.convolutional import Conv2D\n",
    "from keras.layers.convolutional import MaxPooling2D\n",
    "from keras.utils import np_utils\n",
    "from keras import backend as K\n",
    "K.set_image_data_format('channels_first')\n",
    "from keras.models import model_from_json"
   ]
  },
  {
   "cell_type": "code",
   "execution_count": 3,
   "metadata": {},
   "outputs": [
    {
     "name": "stdout",
     "output_type": "stream",
     "text": [
      "WARNING:tensorflow:From c:\\users\\adarsh agarwala\\appdata\\local\\programs\\python\\python37\\lib\\site-packages\\tensorflow\\python\\ops\\resource_variable_ops.py:435: colocate_with (from tensorflow.python.framework.ops) is deprecated and will be removed in a future version.\n",
      "Instructions for updating:\n",
      "Colocations handled automatically by placer.\n"
     ]
    }
   ],
   "source": [
    "json_file = open('model_final.json', 'r')\n",
    "loaded_model_json = json_file.read()\n",
    "json_file.close()\n",
    "loaded_model = model_from_json(loaded_model_json)\n",
    "# load weights into new model\n",
    "loaded_model.load_weights(\"model_final.h5\")"
   ]
  },
  {
   "cell_type": "code",
   "execution_count": 4,
   "metadata": {},
   "outputs": [],
   "source": [
    "import numpy as np\n",
    "import cv2\n",
    "from PIL import Image\n",
    "from matplotlib import pyplot as plt\n",
    "%matplotlib inline\n",
    "import os\n",
    "from os import listdir\n",
    "from os.path import isfile, join\n",
    "import pandas as pd"
   ]
  },
  {
   "cell_type": "code",
   "execution_count": 5,
   "metadata": {},
   "outputs": [],
   "source": [
    "#df = pd.read_csv (r'C:\\Users\\Adarsh Agarwala\\Downloads\\data.csv',index_col=False)\n",
    "#print (df.shape)\n",
    "def load_images_from_folder(folder):\n",
    "    train_data=[]\n",
    "    for filename in os.listdir(folder):\n",
    "        img = cv2.imread(os.path.join(folder,filename),cv2.IMREAD_GRAYSCALE)\n",
    "        img=~img\n",
    "        if img is not None:\n",
    "            ret,thresh=cv2.threshold(img,127,255,cv2.THRESH_BINARY)\n",
    "            ctrs,ret=cv2.findContours(thresh,cv2.RETR_EXTERNAL,cv2.CHAIN_APPROX_NONE)\n",
    "            cnt=sorted(ctrs, key=lambda ctr: cv2.boundingRect(ctr)[0])\n",
    "            w=int(28)\n",
    "            h=int(28)\n",
    "            maxi=0\n",
    "            for c in cnt:\n",
    "                x,y,w,h=cv2.boundingRect(c)\n",
    "                maxi=max(w*h,maxi)\n",
    "                if maxi==w*h:\n",
    "                    x_max=x\n",
    "                    y_max=y\n",
    "                    w_max=w\n",
    "                    h_max=h\n",
    "            im_crop= thresh[y_max:y_max+h_max+10, x_max:x_max+w_max+10]\n",
    "            im_resize = cv2.resize(im_crop,(28,28))\n",
    "            im_resize=np.reshape(im_resize,(784,1))\n",
    "            train_data.append(im_resize)\n",
    "    return train_data"
   ]
  },
  {
   "cell_type": "code",
   "execution_count": 6,
   "metadata": {},
   "outputs": [
    {
     "name": "stdout",
     "output_type": "stream",
     "text": [
      "200\n"
     ]
    }
   ],
   "source": [
    "datatest0=load_images_from_folder('Test/0')\n",
    "for i in range(0,len(datatest0)):\n",
    "    datatest0[i]=np.append(datatest0[i],['0'])\n",
    "#data=np.concatenate((data,data0))\n",
    "print(len(datatest0))"
   ]
  },
  {
   "cell_type": "code",
   "execution_count": 7,
   "metadata": {},
   "outputs": [
    {
     "name": "stdout",
     "output_type": "stream",
     "text": [
      "400\n"
     ]
    }
   ],
   "source": [
    "datatest1=load_images_from_folder('Test/1')\n",
    "for i in range(0,len(datatest1)):\n",
    "    datatest1[i]=np.append(datatest1[i],['1'])\n",
    "datatest0=np.concatenate((datatest0,datatest1))\n",
    "print(len(datatest0))"
   ]
  },
  {
   "cell_type": "code",
   "execution_count": 8,
   "metadata": {},
   "outputs": [
    {
     "name": "stdout",
     "output_type": "stream",
     "text": [
      "600\n"
     ]
    }
   ],
   "source": [
    "datatest2=load_images_from_folder('Test/2')\n",
    "for i in range(0,len(datatest2)):\n",
    "    datatest2[i]=np.append(datatest2[i],['2'])\n",
    "datatest0=np.concatenate((datatest0,datatest2))\n",
    "print(len(datatest0))"
   ]
  },
  {
   "cell_type": "code",
   "execution_count": 9,
   "metadata": {},
   "outputs": [
    {
     "name": "stdout",
     "output_type": "stream",
     "text": [
      "800\n"
     ]
    }
   ],
   "source": [
    "datatest3=load_images_from_folder('Test/3')\n",
    "for i in range(0,len(datatest3)):\n",
    "    datatest3[i]=np.append(datatest3[i],['3'])\n",
    "datatest0=np.concatenate((datatest0,datatest3))\n",
    "print(len(datatest0))"
   ]
  },
  {
   "cell_type": "code",
   "execution_count": 10,
   "metadata": {},
   "outputs": [
    {
     "name": "stdout",
     "output_type": "stream",
     "text": [
      "1000\n"
     ]
    }
   ],
   "source": [
    "datatest4=load_images_from_folder('Test/4')\n",
    "for i in range(0,len(datatest4)):\n",
    "    datatest4[i]=np.append(datatest4[i],['4'])\n",
    "datatest0=np.concatenate((datatest0,datatest4))\n",
    "print(len(datatest0))"
   ]
  },
  {
   "cell_type": "code",
   "execution_count": 11,
   "metadata": {},
   "outputs": [
    {
     "name": "stdout",
     "output_type": "stream",
     "text": [
      "1200\n"
     ]
    }
   ],
   "source": [
    "datatest5=load_images_from_folder('Test/5')\n",
    "for i in range(0,len(datatest5)):\n",
    "    datatest5[i]=np.append(datatest5[i],['5'])\n",
    "datatest0=np.concatenate((datatest0,datatest5))\n",
    "print(len(datatest0))"
   ]
  },
  {
   "cell_type": "code",
   "execution_count": 12,
   "metadata": {},
   "outputs": [
    {
     "name": "stdout",
     "output_type": "stream",
     "text": [
      "1400\n"
     ]
    }
   ],
   "source": [
    "datatest6=load_images_from_folder('Test/6')\n",
    "for i in range(0,len(datatest6)):\n",
    "    datatest6[i]=np.append(datatest6[i],['6'])\n",
    "datatest0=np.concatenate((datatest0,datatest6))\n",
    "print(len(datatest0))"
   ]
  },
  {
   "cell_type": "code",
   "execution_count": 13,
   "metadata": {},
   "outputs": [
    {
     "name": "stdout",
     "output_type": "stream",
     "text": [
      "1600\n"
     ]
    }
   ],
   "source": [
    "datatest7=load_images_from_folder('Test/7')\n",
    "for i in range(0,len(datatest7)):\n",
    "    datatest7[i]=np.append(datatest7[i],['7'])\n",
    "datatest0=np.concatenate((datatest0,datatest7))\n",
    "print(len(datatest0))"
   ]
  },
  {
   "cell_type": "code",
   "execution_count": 14,
   "metadata": {},
   "outputs": [
    {
     "name": "stdout",
     "output_type": "stream",
     "text": [
      "1800\n"
     ]
    }
   ],
   "source": [
    "datatest8=load_images_from_folder('Test/8')\n",
    "for i in range(0,len(datatest8)):\n",
    "    datatest8[i]=np.append(datatest8[i],['8'])\n",
    "datatest0=np.concatenate((datatest0,datatest8))\n",
    "print(len(datatest0))"
   ]
  },
  {
   "cell_type": "code",
   "execution_count": 15,
   "metadata": {},
   "outputs": [
    {
     "name": "stdout",
     "output_type": "stream",
     "text": [
      "2000\n"
     ]
    }
   ],
   "source": [
    "datatest9=load_images_from_folder('Test/9')\n",
    "for i in range(0,len(datatest9)):\n",
    "    datatest9[i]=np.append(datatest9[i],['9'])\n",
    "datatest0=np.concatenate((datatest0,datatest9))\n",
    "print(len(datatest0))"
   ]
  },
  {
   "cell_type": "code",
   "execution_count": 16,
   "metadata": {},
   "outputs": [
    {
     "name": "stdout",
     "output_type": "stream",
     "text": [
      "2200\n"
     ]
    }
   ],
   "source": [
    "datatest10=load_images_from_folder('Test/+')\n",
    "for i in range(0,len(datatest10)):\n",
    "    datatest10[i]=np.append(datatest10[i],['10'])\n",
    "datatest0=np.concatenate((datatest0,datatest10))\n",
    "print(len(datatest0))"
   ]
  },
  {
   "cell_type": "code",
   "execution_count": 17,
   "metadata": {},
   "outputs": [
    {
     "name": "stdout",
     "output_type": "stream",
     "text": [
      "2400\n"
     ]
    }
   ],
   "source": [
    "datatest11=load_images_from_folder('Test/-')\n",
    "for i in range(0,len(datatest11)):\n",
    "    datatest11[i]=np.append(datatest11[i],['11'])\n",
    "datatest0=np.concatenate((datatest0,datatest11))\n",
    "print(len(datatest0))"
   ]
  },
  {
   "cell_type": "code",
   "execution_count": 18,
   "metadata": {},
   "outputs": [
    {
     "name": "stdout",
     "output_type": "stream",
     "text": [
      "2600\n"
     ]
    }
   ],
   "source": [
    "datatest12=load_images_from_folder('Test/times')\n",
    "for i in range(0,len(datatest12)):\n",
    "    datatest12[i]=np.append(datatest12[i],['12'])\n",
    "datatest0=np.concatenate((datatest0,datatest12))\n",
    "print(len(datatest0))"
   ]
  },
  {
   "cell_type": "code",
   "execution_count": 19,
   "metadata": {},
   "outputs": [
    {
     "name": "stdout",
     "output_type": "stream",
     "text": [
      "2800\n"
     ]
    }
   ],
   "source": [
    "#datatest13=load_images_from_folder('Test/div')\n",
    "#for i in range(0,len(datatest13)):\n",
    " #   datatest13[i]=np.append(datatest13[i],['13'])\n",
    "#datatest0=np.concatenate((datatest0,datatest13))\n",
    "#print(len(datatest0))"
   ]
  },
  {
   "cell_type": "code",
   "execution_count": 20,
   "metadata": {},
   "outputs": [
    {
     "data": {
      "text/plain": [
       "(2800, 785)"
      ]
     },
     "execution_count": 20,
     "metadata": {},
     "output_type": "execute_result"
    }
   ],
   "source": [
    "testset=np.array(datatest0)\n",
    "testset.shape"
   ]
  },
  {
   "cell_type": "code",
   "execution_count": null,
   "metadata": {},
   "outputs": [],
   "source": []
  },
  {
   "cell_type": "code",
   "execution_count": 21,
   "metadata": {},
   "outputs": [],
   "source": [
    "labels=testset[:,784]\n",
    "labels=np.reshape(labels,(2800,1))"
   ]
  },
  {
   "cell_type": "code",
   "execution_count": 22,
   "metadata": {},
   "outputs": [
    {
     "data": {
      "text/plain": [
       "(2800, 1)"
      ]
     },
     "execution_count": 22,
     "metadata": {},
     "output_type": "execute_result"
    }
   ],
   "source": [
    "labels.shape"
   ]
  },
  {
   "cell_type": "code",
   "execution_count": 23,
   "metadata": {},
   "outputs": [],
   "source": [
    "testset=np.delete(testset,obj=784,axis=1)"
   ]
  },
  {
   "cell_type": "code",
   "execution_count": 24,
   "metadata": {},
   "outputs": [
    {
     "data": {
      "text/plain": [
       "(2800, 784)"
      ]
     },
     "execution_count": 24,
     "metadata": {},
     "output_type": "execute_result"
    }
   ],
   "source": [
    "testset.shape"
   ]
  },
  {
   "cell_type": "code",
   "execution_count": 25,
   "metadata": {},
   "outputs": [],
   "source": [
    "testset=np.reshape(testset,(2600,1,28,28))"
   ]
  },
  {
   "cell_type": "code",
   "execution_count": 27,
   "metadata": {},
   "outputs": [
    {
     "name": "stdout",
     "output_type": "stream",
     "text": [
      "[[9.99997377e-01 2.29118243e-12 1.04507714e-09 2.49022628e-06\n",
      "  1.83231753e-13 1.48413433e-08 1.61609979e-08 1.05330335e-10\n",
      "  9.13008904e-08 1.95892830e-10 1.09089272e-13 7.08207362e-22\n",
      "  5.99773574e-17 1.69715824e-14]]\n"
     ]
    }
   ],
   "source": [
    "y_pred=loaded_model.predict_classes(testset)"
   ]
  },
  {
   "cell_type": "code",
   "execution_count": 28,
   "metadata": {},
   "outputs": [
    {
     "name": "stdout",
     "output_type": "stream",
     "text": [
      "[[9.99997377e-01 2.29118243e-12 1.04507714e-09 2.49022628e-06\n",
      "  1.83231753e-13 1.48413433e-08 1.61609979e-08 1.05330335e-10\n",
      "  9.13008904e-08 1.95892830e-10 1.09089272e-13 7.08207362e-22\n",
      "  5.99773574e-17 1.69715824e-14]]\n"
     ]
    }
   ],
   "source": [
    "print(y_pred[1:2])"
   ]
  },
  {
   "cell_type": "code",
   "execution_count": 51,
   "metadata": {},
   "outputs": [],
   "source": [
    "y_pred=np.reshape(y_pred,(2800,1))\n",
    "labels=labels.astype(int)"
   ]
  },
  {
   "cell_type": "code",
   "execution_count": null,
   "metadata": {},
   "outputs": [],
   "source": []
  },
  {
   "cell_type": "code",
   "execution_count": 52,
   "metadata": {},
   "outputs": [
    {
     "name": "stdout",
     "output_type": "stream",
     "text": [
      "<class 'numpy.int32'>\n"
     ]
    }
   ],
   "source": [
    "print(type(labels[1,0]))"
   ]
  },
  {
   "cell_type": "code",
   "execution_count": 53,
   "metadata": {},
   "outputs": [],
   "source": [
    "loss=np.subtract(y_pred,labels)"
   ]
  },
  {
   "cell_type": "code",
   "execution_count": 54,
   "metadata": {},
   "outputs": [],
   "source": [
    "accuracy=len(loss) - np.count_nonzero(loss)"
   ]
  },
  {
   "cell_type": "code",
   "execution_count": null,
   "metadata": {},
   "outputs": [],
   "source": []
  },
  {
   "cell_type": "code",
   "execution_count": 55,
   "metadata": {},
   "outputs": [
    {
     "name": "stdout",
     "output_type": "stream",
     "text": [
      "98.75 %\n"
     ]
    }
   ],
   "source": [
    "accper=(accuracy/len(loss))*100\n",
    "print(accper,\"%\")"
   ]
  },
  {
   "cell_type": "code",
   "execution_count": null,
   "metadata": {},
   "outputs": [],
   "source": []
  }
 ],
 "metadata": {
  "kernelspec": {
   "display_name": "Python 3",
   "language": "python",
   "name": "python3"
  },
  "language_info": {
   "codemirror_mode": {
    "name": "ipython",
    "version": 3
   },
   "file_extension": ".py",
   "mimetype": "text/x-python",
   "name": "python",
   "nbconvert_exporter": "python",
   "pygments_lexer": "ipython3",
   "version": "3.7.2"
  }
 },
 "nbformat": 4,
 "nbformat_minor": 4
}
